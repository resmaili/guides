{
 "cells": [
  {
   "cell_type": "markdown",
   "metadata": {
    "colab_type": "text",
    "id": "view-in-github"
   },
   "source": [
    "<a href=\"https://colab.research.google.com/gist/resmaili/1bdad6abdb1c62f6911ebec9e5ae1f77/preworkshop_intro_to_python.ipynb\" target=\"_parent\"><img src=\"https://colab.research.google.com/assets/colab-badge.svg\" alt=\"Open In Colab\"/></a>"
   ]
  },
  {
   "cell_type": "markdown",
   "metadata": {
    "id": "n7SgYbYBdZMi"
   },
   "source": [
    "# **Intro to Python: Basic Data Analysis and Visualization**\n",
    "\n",
    "Author: Rebekah Esmaili (rebekah.esmaili@gmail.com)\n",
    "\n",
    "---\n",
    "\n",
    "Topics covered in **Section 1 (Basic Python Syntax)**:\n",
    "- Signing variables and calling functions\n",
    "- Working with lists\n",
    "- Importing Packages\n",
    "- Reading ASCII data\n",
    "- Applying masks and filtering data\n",
    "\n",
    "Topics covered in **Section 2 (Basic Figures and Plots)**:\n",
    "- Creating a histogram\n",
    "- Adding simple customizations\n",
    "\n"
   ]
  },
  {
   "cell_type": "markdown",
   "metadata": {
    "id": "wQSf8Z8LhtBA"
   },
   "source": [
    "## **Section 1: Basic Python Syntax**"
   ]
  },
  {
   "cell_type": "markdown",
   "metadata": {
    "id": "EE52OMkvdZMr"
   },
   "source": [
    "\n",
    "### 1.1 Variables and Functions\n",
    "\n",
    "The most basic Python command is to write words to the screen. In Google Colab, the result will appear below the line of code. To run the above command in Jupyter notebook, highlight the cell and either chick the run button (►) next to the code block or press the **Shift** and **Enter** keys."
   ]
  },
  {
   "cell_type": "markdown",
   "metadata": {
    "id": "Qar5uRnZhrhX"
   },
   "source": []
  },
  {
   "cell_type": "code",
   "execution_count": null,
   "metadata": {
    "id": "7rIb5noHdZMr"
   },
   "outputs": [],
   "source": [
    "# This is a comment, python will not run this!\n",
    "print(\"Hello Earth\")"
   ]
  },
  {
   "cell_type": "markdown",
   "metadata": {
    "id": "nYTva9BXdZMt"
   },
   "source": [
    "In Python, variables are dynamically allocated, which means that you do not need to declare the type or size prior to storing data in them. Instead, Python will automatically guess the variable type based on the content of what you are assigning:"
   ]
  },
  {
   "cell_type": "code",
   "execution_count": null,
   "metadata": {
    "id": "WJAf0f-IdZMt"
   },
   "outputs": [],
   "source": [
    "var_int = 8\n",
    "var_float = 15.0\n",
    "var_scifloat = 4e8\n",
    "var_complex = complex(4, 2)\n",
    "var_greetings = 'Hello Earth'"
   ]
  },
  {
   "cell_type": "markdown",
   "metadata": {
    "id": "vuRkqmBtdZMu"
   },
   "source": [
    "Python has many built in functions, the syntax is usually:\n",
    "\n",
    "```\n",
    "function_name(inputs)\n",
    "```\n",
    "You have already used two functions: `print()` and `complex()`. Another useful function is `type()`, will tell us if the variable is an integer, a float, a complex number, or a string."
   ]
  },
  {
   "cell_type": "code",
   "execution_count": null,
   "metadata": {
    "id": "GpQDFfWFdZMu"
   },
   "outputs": [],
   "source": [
    "type(var_int),  type(var_float), type(var_scifloat), type(var_complex), type(var_greetings)"
   ]
  },
  {
   "cell_type": "markdown",
   "metadata": {
    "id": "Uduc1ZSfdZMv"
   },
   "source": [
    "Python has the following built-in operators:\n",
    "\n",
    "* Addition, subtraction, multiplication, division: `+`, `-`, `*`, `/`\n",
    "* Exponential, integer division, modulus: `**`, `//`, `%`\n",
    "\n"
   ]
  },
  {
   "cell_type": "code",
   "execution_count": null,
   "metadata": {
    "id": "AO6V_ACadZMv"
   },
   "outputs": [],
   "source": [
    "2+2.0, var_int**2, var_float//var_int, var_float%var_int"
   ]
  },
  {
   "cell_type": "markdown",
   "metadata": {
    "id": "x2yqbU9CdZMw"
   },
   "source": [
    "---\n",
    "\n",
    "#### **Exercise 1-1:** Learning to use notebooks\n",
    "\n",
    "1. Launch [Google Colab](https://colab.research.google.com/) and create a new notebook\n",
    "2. Rename the notebook\n",
    "3. Create a new cell and use `type()` to see if the following are floats and integers:\n",
    "    * `2+2`\n",
    "    * `2*2.0`\n",
    "    * `var_float/var_int`\n",
    "---\n",
    "**Solution:**"
   ]
  },
  {
   "cell_type": "code",
   "execution_count": null,
   "metadata": {
    "id": "EDm7e54rdZMw"
   },
   "outputs": [],
   "source": []
  },
  {
   "cell_type": "markdown",
   "metadata": {
    "id": "pk511Iy5kiki"
   },
   "source": [
    "<details><summary><b><font color=\"red\" size=5>Click here for the Solution</font></b></summary>\n",
    "<p></p>\n",
    "\n",
    "```\n",
    "var_int = 8\n",
    "var_float = 15.0\n",
    "\n",
    "type(2+2), type(2*2.0), type(var_float/var_int)\n",
    "```\n",
    "\n",
    "(int, float, float)"
   ]
  },
  {
   "cell_type": "markdown",
   "metadata": {
    "id": "Wi0lvILmdZMx"
   },
   "source": [
    "### 1.2 Working with lists\n",
    "\n",
    "Lists are useful for storing scientific data. Lists are made using square brackets. They can hold any data type (integers, floats, and strings) and even mixtures of the two."
   ]
  },
  {
   "cell_type": "code",
   "execution_count": null,
   "metadata": {
    "id": "dKwTZWFJdZMx"
   },
   "outputs": [],
   "source": [
    "numbers_list = [4, 8, 15, 16, 23]"
   ]
  },
  {
   "cell_type": "markdown",
   "metadata": {
    "id": "HQ6B5veRdZMx"
   },
   "source": [
    "You can access elements of the list using the index. Python is zero based, so index 0 retrieves the first element."
   ]
  },
  {
   "cell_type": "code",
   "execution_count": null,
   "metadata": {
    "id": "gFnjE6IndZMx"
   },
   "outputs": [],
   "source": [
    "numbers_list[3]"
   ]
  },
  {
   "cell_type": "markdown",
   "metadata": {
    "id": "C2xUR7h7dZMy"
   },
   "source": [
    "New items can also be appended to the list using the append function, which has the syntax:\n",
    "\n",
    "```\n",
    "variable.function(element(s))\n",
    "```\n",
    "The list will be updated *in-place*."
   ]
  },
  {
   "cell_type": "code",
   "execution_count": null,
   "metadata": {
    "id": "7qLh3iiHdZMy"
   },
   "outputs": [],
   "source": [
    "numbers_list.append(42)\n",
    "print(numbers_list)"
   ]
  },
  {
   "cell_type": "markdown",
   "metadata": {
    "id": "7ebN8FjBdZMy"
   },
   "source": [
    "Perhaps we want to calculate the sum of the values in two lists. However, we cannot use the *+* like we did with single values. For list objects, the `+` will *combine* lists."
   ]
  },
  {
   "cell_type": "code",
   "execution_count": null,
   "metadata": {
    "id": "B7MxhagLdZMy"
   },
   "outputs": [],
   "source": [
    "numbers_list"
   ]
  },
  {
   "cell_type": "markdown",
   "metadata": {
    "id": "etX0uMKDdZMy"
   },
   "source": [
    "To perform mathematical operations, you can convert the above list to an array using the NumPy package."
   ]
  },
  {
   "cell_type": "markdown",
   "metadata": {
    "id": "tzzRxQ4edZMz"
   },
   "source": [
    "### 1.3 Importing Packages\n",
    "\n",
    "Packages are collection of modules, which help simplify common tasks. [NumPy](https://numpy.org/) is useful for mathematical operations and array manipulation.\n",
    "\n",
    "* Provides a high-performance multidimensional array object and tools for working with these arrays.\n",
    "* Fundamental package for scientific computing with Python.\n",
    "* For more examples than presented below, please refer [the NumPy Quick Start](https://numpy.org/devdocs/user/quickstart.html)\n",
    "\n",
    "The syntax for calling packages is to type the `import <package name>`. However, some packages have long names, so you can use `import <package name> as <alias>`."
   ]
  },
  {
   "cell_type": "code",
   "execution_count": null,
   "metadata": {
    "id": "jKd19e1_dZMz"
   },
   "outputs": [],
   "source": [
    "import numpy as np"
   ]
  },
  {
   "cell_type": "markdown",
   "metadata": {
    "id": "YnnOVFzCdZMz"
   },
   "source": [
    "If you do not see any error after running the line above, then the package was successfully imported.\n",
    "### 1.4 Arrays\n",
    "\n",
    "I can use NumPy’s array constructor `np.array()` to convert our list to a NumPy array and perform the matrix multiplication. For example, we can double each element of the array:"
   ]
  },
  {
   "cell_type": "code",
   "execution_count": null,
   "metadata": {
    "id": "703G4qBmdZMz"
   },
   "outputs": [],
   "source": [
    "numbers_array = np.array(numbers_list)\n",
    "numbers_array*2"
   ]
  },
  {
   "cell_type": "markdown",
   "metadata": {
    "id": "OF9OlHvodZMz"
   },
   "source": [
    "Another difference between arrays and lists is that lists are only one-dimensional. NumPy can be any number of dimensions. For example, we can change the dimensions of the data using the `reshape()` function:"
   ]
  },
  {
   "cell_type": "code",
   "execution_count": null,
   "metadata": {
    "id": "VFp90zWHdZM0"
   },
   "outputs": [],
   "source": [
    "numbers_array_2d = numbers_array.reshape(3,2)\n",
    "numbers_array_2d"
   ]
  },
  {
   "cell_type": "code",
   "execution_count": null,
   "metadata": {
    "id": "7Mo7icuqdZM0"
   },
   "outputs": [],
   "source": [
    "numbers_array_2d.shape"
   ]
  },
  {
   "cell_type": "markdown",
   "metadata": {
    "id": "fiM5PPUxdZM0"
   },
   "source": [
    "The original numbers_array had 6 elements in a 1D array, the new array is 2D with 3 rows and 2 columns."
   ]
  },
  {
   "cell_type": "markdown",
   "metadata": {
    "id": "kiYXKFCEdZM0"
   },
   "source": [
    "### 1.5 Reading data\n",
    "\n",
    "The Pandas package has a useful function for reading text/ascii data called ```read_csv()```. The function name is somewhat a misnomer, as ```read_csv()``` will read any delimited data using the ```delim=``` keyword argument. Below, you will import the [Pandas](https://pandas.pydata.org/) package and we will read in a dataset. Note that the path below is relative to the current notebook and you may have to change the code if you are running locally on your computer:\n",
    "\n",
    "```\n",
    "data/VIIRSNDE_global2020258.v1.0.txt\n",
    "```\n",
    "\n",
    "We will look at the Visible Infrared Imaging Radiometer Suite (VIIRS) Active Fire product, a product that classifies if a pixel contains fire with various confidence levels. More information can be found at https://www.ospo.noaa.gov/Products/land/fire.html. We will examine the data on Sept 15, 2020 (day of year 258)."
   ]
  },
  {
   "cell_type": "code",
   "execution_count": null,
   "metadata": {
    "id": "1i2up0sgdZM0"
   },
   "outputs": [],
   "source": [
    "import pandas as pd"
   ]
  },
  {
   "cell_type": "markdown",
   "metadata": {
    "id": "vvHx2U4fdZM0"
   },
   "source": [
    "The default seperator is a comma (`,`), however my data also contains space. We can use the `\"\\s*\"` to indicate space following the comma should be ignored. The engine=\"python\" keyword ensures that this will work across different operating systems."
   ]
  },
  {
   "cell_type": "code",
   "execution_count": null,
   "metadata": {
    "id": "z9RtBlmJdZM1"
   },
   "outputs": [],
   "source": [
    "fname = \"https://github.com/modern-tools-workshop/AGU-python-workshop-2022/raw/refs/heads/main/data/VIIRSNDE_global2020258.v1.0.txt\"\n",
    "fires = pd.read_csv(fname, sep=',\\s*', engine='python')"
   ]
  },
  {
   "cell_type": "markdown",
   "metadata": {
    "id": "GqirQIlndZM1"
   },
   "source": [
    "You can inspect the contents within the notebook using the *head()* function, which will return the first five rows of the dataset. Pandas automatically stores data in structures called *DataFrames*. DataFrames are two dimensional (rows and columns) and resemble a spreadsheet. The leftmost column is the row index and is not part of the *fires* dataset."
   ]
  },
  {
   "cell_type": "code",
   "execution_count": null,
   "metadata": {
    "id": "J__BNb2MdZM1"
   },
   "outputs": [],
   "source": [
    "fires.head()"
   ]
  },
  {
   "cell_type": "markdown",
   "metadata": {
    "id": "X1KA7_KsdZM1"
   },
   "source": [
    "You can access individual columns of data using the column name. For example, below you can extract the pixel brightness temperature (brt):"
   ]
  },
  {
   "cell_type": "code",
   "execution_count": null,
   "metadata": {
    "id": "Z-GK1v1udZM1"
   },
   "outputs": [],
   "source": [
    "fires[\"brt_t13(K)\"]"
   ]
  },
  {
   "cell_type": "markdown",
   "metadata": {
    "id": "s2A-9Ro6dZM2"
   },
   "source": [
    "---\n",
    "\n",
    "#### **Exercise 1-2:** Read an ascii file\n",
    "\n",
    "1. Import the dataset \"https://raw.githubusercontent.com/modern-tools-workshop/AGU-python-workshop-2022/refs/heads/main/data/20200901_20200930_Monterey.lev15.csv\" and save it to a variable called `aeronet`.\n",
    "2. Print the first few lines using `.head()`\n",
    "3. Find a column that doesn't have only missing values (-999) and (challenge!) calculate the mean using the following syntax `<variable>[\"<column>\"].mean()`\n",
    "---\n",
    "**Solution:**"
   ]
  },
  {
   "cell_type": "code",
   "execution_count": null,
   "metadata": {
    "id": "j2ZbJ06LdZM2"
   },
   "outputs": [],
   "source": []
  },
  {
   "cell_type": "markdown",
   "metadata": {
    "id": "y3dxdzOUkddh"
   },
   "source": [
    "<details><summary><b><font color=\"red\" size=5>Click here for the Solution</font></b></summary>\n",
    "<p></p>\n",
    "\n",
    "1. Import the dataset \"20200901_20200930_Monterey.lev15.csv\" and save it to a variable called aeronet.\n",
    "\n",
    "```\n",
    "fname = \"https://raw.githubusercontent.com/modern-tools-workshop/AGU-python-workshop-2022/refs/heads/main/data/20200901_20200930_Monterey.lev15.csv\"\n",
    "aeronet = pd.read_csv(fname, sep=',\\s*', engine='python')\n",
    "```\n",
    "\n",
    "2. Print the first few lines using `.head()`\n",
    "\n",
    "```\n",
    "aeronet.head()\n",
    "```\n",
    "\n",
    "3. Find a column that doesn't have only missing values (-999) and (challenge!) calculate the mean using the following syntax `<variable>[\"<column>\"].mean()`\n",
    "\n",
    "```\n",
    "# There are a few options: AOD_1640nm, AOD_1020nm, AOD_870nm, AOD_675nm ...\n",
    "aeronet[\"AOD_1640nm\"].mean()\n",
    "```\n",
    "-1.7637041143410852\n"
   ]
  },
  {
   "cell_type": "markdown",
   "metadata": {
    "id": "FfqgGinJdZM2"
   },
   "source": [
    "### 1.6 Masks, masked arrays, and filtering\n",
    "\n",
    "When working with data, sometimes there are numbers we want to remove. For instance, we may want to work with data below a certain threshold. You can subset the data using identity operations:\n",
    "\n",
    "* less than: `<`\n",
    "* less than or equal to: `<=`\n",
    "* greater than: `>`\n",
    "* greater than or equal to: `>=`\n",
    "* equals: `==`\n",
    "* not equals: `!=`\n",
    "\n",
    "Their use will return either a True or False statement. For the `fires` dataset, you can find which elements of the array that meet some condition, such as only examining larger fires that have a Fire Radiative Power (FRP) above 50 MW:"
   ]
  },
  {
   "cell_type": "code",
   "execution_count": null,
   "metadata": {
    "id": "t2FEr8NJdZM7"
   },
   "outputs": [],
   "source": [
    "masked_nums = (fires['frp(MW)'] > 50)\n",
    "print(masked_nums)"
   ]
  },
  {
   "cell_type": "markdown",
   "metadata": {
    "id": "Xsc_fEvGdZM7"
   },
   "source": [
    "Sometimes you may want to filter by two conditions. For example, insteading of filtering the FRP data, you may only want to examine values within a latitude and longitude domain. In Python, we can combine multiple conditions using and (`&`) and or (`|`) statements. Below, we extract the data in 5&deg;x5&deg; box arond Monterey, California:"
   ]
  },
  {
   "cell_type": "code",
   "execution_count": null,
   "metadata": {
    "id": "trZxP-x4dZM7"
   },
   "outputs": [],
   "source": [
    "masked_nums = (fires['Lat'] > 35.0) & (fires['Lat'] < 40.0) & (fires['Lon'] > -125.0) & (fires['Lon'] < -120.0)\n",
    "print(masked_nums)"
   ]
  },
  {
   "cell_type": "markdown",
   "metadata": {
    "id": "JcAEbmTpdZM7"
   },
   "source": [
    "The above mask can be used in place of an index. Below, you can create a new variable that takes the FRP using the `fires['frp(MW)']` variable and subsets it with the array of `masked_nums`:"
   ]
  },
  {
   "cell_type": "code",
   "execution_count": null,
   "metadata": {
    "id": "dvmgGpI-dZM7"
   },
   "outputs": [],
   "source": [
    "monterey_fires = fires['frp(MW)'][masked_nums]\n",
    "print(monterey_fires)"
   ]
  },
  {
   "cell_type": "markdown",
   "metadata": {
    "id": "yfbWx6YAdZM8"
   },
   "source": [
    "From this new variable, you can compute the average in this region and compare them to the global average for that day:"
   ]
  },
  {
   "cell_type": "code",
   "execution_count": null,
   "metadata": {
    "id": "2v08al8OdZM8"
   },
   "outputs": [],
   "source": [
    "monterey_fires.mean(), fires['frp(MW)'].mean()"
   ]
  },
  {
   "cell_type": "markdown",
   "metadata": {
    "id": "y3xxYuRqdZM8"
   },
   "source": [
    "You can use the size command to compare the dimensions of original array and the one that filtered out values that were outside of our latitude and longitude bounds. You will notice that these two arrays have different sizes."
   ]
  },
  {
   "cell_type": "code",
   "execution_count": null,
   "metadata": {
    "id": "mfq2V0VzdZM8"
   },
   "outputs": [],
   "source": [
    "fires['frp(MW)'].size, monterey_fires.size"
   ]
  },
  {
   "cell_type": "markdown",
   "metadata": {
    "id": "jQsFmhvMdZM8"
   },
   "source": [
    "There are cases where you will want to preserve the size and shape of the original array. For these situations, you can utilize the NumPy *masked array* module. The syntax is `np.ma.array()`, and you will add a keyword argument `mask=`, which is set to the inverse (`~`) of the `mask_nums`*."
   ]
  },
  {
   "cell_type": "code",
   "execution_count": null,
   "metadata": {
    "id": "DglMY_WvdZM8"
   },
   "outputs": [],
   "source": [
    "monterey_fires_ma = np.ma.array(fires['frp(MW)'], mask=~masked_nums, fill_value=-999)\n",
    "monterey_fires_ma"
   ]
  },
  {
   "cell_type": "markdown",
   "metadata": {
    "id": "F7VnNfSzdZM8"
   },
   "source": [
    "Then, you can calculate the mean values and confirm that they are the same as the previous example:"
   ]
  },
  {
   "cell_type": "code",
   "execution_count": null,
   "metadata": {
    "id": "RZdghcDzdZM9"
   },
   "outputs": [],
   "source": [
    "monterey_fires_ma.mean()"
   ]
  },
  {
   "cell_type": "markdown",
   "metadata": {
    "id": "sdn99j7odZM9"
   },
   "source": [
    "However, the key difference will be the size, which retains the shape of the unmasked data:"
   ]
  },
  {
   "cell_type": "code",
   "execution_count": null,
   "metadata": {
    "id": "xBwsr3NJdZM9"
   },
   "outputs": [],
   "source": [
    "monterey_fires_ma.size"
   ]
  },
  {
   "cell_type": "markdown",
   "metadata": {
    "id": "u4UdXzEodZM9"
   },
   "source": [
    "---\n",
    "#### **Exercise 1-3:** Filtering data\n",
    "\n",
    "Using the dataset imported in the previous example (`aeronet`):\n",
    "    \n",
    "1. Create a mask that filters the \"AOD_870nm\" column to only include values that are above 0.\n",
    "2. Create a new variables, `day_of_year`, with the mask applied to `aeronet[\"Day_of_Year(Fraction)\"]`.\n",
    "3. Create a new variables, `aod_870`, with the mask applied to `aeronet[\"AOD_870nm\"]`.\n",
    "4. Compare the mean value of `aeronet[\"AOD_870nm\"]` to `aod_870`.\n",
    "    \n",
    "---\n"
   ]
  },
  {
   "cell_type": "code",
   "execution_count": null,
   "metadata": {
    "id": "q_-AnqN-dZM9"
   },
   "outputs": [],
   "source": []
  },
  {
   "cell_type": "markdown",
   "metadata": {
    "id": "cts9pcuikLRj"
   },
   "source": [
    "<details><summary><b><font color=\"red\" size=5>Click here for the Solution</font></b></summary>\n",
    "<p></p>\n",
    "\n",
    "1. Create a mask that filters the \"AOD_870nm\" column to only include values that are above 0.\n",
    "\n",
    "```\n",
    "mask_aod = (aeronet[\"AOD_870nm\"] > 0 )\n",
    "```\n",
    "\n",
    "2. Create a new variables, `day_of_year`, with the mask applied to `aeronet[\"Day_of_Year(Fraction)\"]`.\n",
    "\n",
    "```\n",
    "day_of_year = aeronet[\"Day_of_Year(Fraction)\"][mask_aod]\n",
    "```\n",
    "\n",
    "3. Create a new variables, `aod_870`, with the mask applied to `aeronet[\"AOD_870nm\"]`.\n",
    "\n",
    "```\n",
    "aod_870 = aeronet[\"AOD_870nm\"][mask_aod]\n",
    "```\n",
    "\n",
    "4. Compare the mean value of `aeronet[\"AOD_870nm\"]` to `aod_870`.\n",
    "\n",
    "```\n",
    "aeronet[\"AOD_870nm\"].mean(), aod_870.mean()\n",
    "```\n",
    "\n",
    "(-0.3344563769379846, 0.6341813957322987)\n"
   ]
  },
  {
   "cell_type": "markdown",
   "metadata": {
    "id": "zbul4NI0iFAD"
   },
   "source": [
    "## **Section 2: Basic figures and plots**\n"
   ]
  },
  {
   "cell_type": "markdown",
   "metadata": {
    "id": "K4ce1ChrdZM-"
   },
   "source": [
    "### 2.1 Histogram\n",
    "\n",
    "Python has several packages to create visuals for remote sensing data, either in the form of imagery or plots of relevant analysis. Of these, the most widely used and oldest packages is [Matplotlib](https://matplotlib.org/). Matplotlib plots are highly customizable and has additional toolkits that can enhance functionality, such as creating maps using the [Cartopy](https://scitools.org.uk/cartopy/docs/latest/) package, which we will describe more in the workshop.\n"
   ]
  },
  {
   "cell_type": "code",
   "execution_count": null,
   "metadata": {
    "id": "orJ_qYA-dZM-"
   },
   "outputs": [],
   "source": [
    "import matplotlib.pyplot as plt"
   ]
  },
  {
   "cell_type": "markdown",
   "metadata": {
    "id": "AIZU2J_zdZM-"
   },
   "source": [
    "Suppose you want to learn what the global distribution of fire radiative power is. From inspecting the `\"frp(MW)\"` column earlier, these values extend to many decimal places. Rather than use a continuous scale, we can instead group in the data into 10 MW bins, from 0 to 500 MW:"
   ]
  },
  {
   "cell_type": "code",
   "execution_count": null,
   "metadata": {
    "id": "O-5xiFcjdZM-"
   },
   "outputs": [],
   "source": [
    "bins10MW = np.arange(0, 500, 10)"
   ]
  },
  {
   "cell_type": "markdown",
   "metadata": {
    "id": "hySfZORtdZM-"
   },
   "source": [
    "We can use these bins to create a histogram. Line by line, the code below will do as follows. Each additional line is layering elements on this empty graphic. The entire block of code must be run at once and not split into multiple cells.  \n",
    "\n",
    "1. `plt.figure()` creates a blank canvas.\n",
    "2. We add the histogram to the figure using `plt.hist()`, which automatically will count the number of rows with fire radiative power in the bins that we defined above in the bins10W variable. We must then pass in the data (`fires['frp(MW)']`) and the bins (`bins10MW`) into plt.hist.\n",
    "3. `plt.show()` tells matplotlib the plot is now complete and to render it:"
   ]
  },
  {
   "cell_type": "code",
   "execution_count": null,
   "metadata": {
    "id": "melbfxuQdZM-"
   },
   "outputs": [],
   "source": [
    "plt.figure(figsize=[5,5])\n",
    "plt.hist(fires['frp(MW)'], bins=bins10MW)\n",
    "plt.show()"
   ]
  },
  {
   "cell_type": "markdown",
   "metadata": {
    "id": "d4SwkCa6dZM-"
   },
   "source": [
    "### 2.2 Basic plot customization\n",
    "\n",
    "You will remake the previous plot but make some aesthetic improvements, such as labels to the x and y axis using `set_xlabel()` and `set_ylabel()`. Since there are thousands more fires with fire radiative power less than 100 MW than fires with higher values the data are likely lognormal. The plot will be easier to interpret of we rescale the y-axis to a log scale while leaving the x-axis linear.\n",
    "\n",
    "The command `plt.subplot()` will return an axis object to a variable (`ax`). There are three numbers passed in (`111`), which correspond to rows, columns, and index. In this example, there is one row and one column, and therefore, only one index."
   ]
  },
  {
   "cell_type": "code",
   "execution_count": null,
   "metadata": {
    "id": "loMBzbuHdZM-"
   },
   "outputs": [],
   "source": [
    "plt.figure()\n",
    "\n",
    "ax = plt.subplot(111)\n",
    "\n",
    "ax.hist(fires['frp(MW)'], bins=bins10MW)\n",
    "\n",
    "ax.set_yscale('log')\n",
    "\n",
    "ax.set_xlabel(\"Fire Radiative Power (MW)\")\n",
    "ax.set_ylabel(\"Counts\")\n",
    "\n",
    "plt.show()"
   ]
  },
  {
   "cell_type": "markdown",
   "metadata": {
    "id": "lNEdUKpGdZM-"
   },
   "source": [
    "You can also plot the data in 2-dimensions. For example, each row in `fires` has a latitude and longitude coordinates pair. We will take these two coordinates and plot using `plt.scatter()`. The first argument is the x-coordinate and the second is the y-coordinate (the order matters).\n",
    "\n",
    "There are some command line options `plt.scatter()`:\n",
    "\n",
    "* `s`: size with respect to the default\n",
    "* `c`: color, which can be either from a predefined name list or a hexadecimal value\n",
    "* `alpha`: opacity, where smaller values are transparent.\n",
    "\n",
    "Like in the previous example, we can label the latitude and longitude axes:"
   ]
  },
  {
   "cell_type": "code",
   "execution_count": null,
   "metadata": {
    "id": "CJDk9bSGdZM-"
   },
   "outputs": [],
   "source": [
    "fig = plt.figure()\n",
    "ax = plt.subplot(111)\n",
    "\n",
    "ax.scatter(fires['Lon'], fires['Lat'], s=0.5, c='black', alpha=0.1)\n",
    "\n",
    "ax.set_xlabel('Longitude')\n",
    "ax.set_ylabel('Latitude')\n",
    "\n",
    "plt.show()"
   ]
  },
  {
   "cell_type": "markdown",
   "metadata": {
    "id": "sHtT91I1dZM-"
   },
   "source": [
    "You can almost see the outline of the continents from the data above. In the next session, you will learn how to overlay maps onto your plots."
   ]
  },
  {
   "cell_type": "markdown",
   "metadata": {
    "id": "d4PweGvgdZM-"
   },
   "source": [
    "---\n",
    "#### **Exercise 2-1:** Create a scatterplot\n",
    "\n",
    "Use the variables `aod_870` and `day_of_year` that you made in Exercise 3 to:\n",
    "\n",
    "1. Create a scatter plot showing the `day_of_year` (x-axis) and `aod_870` (y-axis)\n",
    "2. Add y-axis and x-axis labels using `.set_xlabel()` and `.set_ylabel()`\n",
    "3. Adjust the color and size of the scatterplot\n",
    "---\n",
    "\n",
    "**Solution**"
   ]
  },
  {
   "cell_type": "code",
   "execution_count": null,
   "metadata": {
    "id": "ZSu_F5IodZM-"
   },
   "outputs": [],
   "source": []
  },
  {
   "cell_type": "markdown",
   "metadata": {
    "id": "f57fThXPkzf6"
   },
   "source": [
    "<details><summary><b><font color=\"red\" size=5>Click here for the Solution</font></b></summary>\n",
    "<p></p>\n",
    "\n",
    "```\n",
    "fig = plt.figure()\n",
    "ax = plt.subplot()\n",
    "ax.scatter(day_of_year, aod_870, s=0.5)\n",
    "ax.set_xlabel('Day of Year')\n",
    "ax.set_ylabel('AOD')\n",
    "plt.show()\n",
    "```"
   ]
  },
  {
   "cell_type": "markdown",
   "metadata": {
    "id": "Ebkmo8LOdZM-"
   },
   "source": [
    "## Summary\n",
    "\n",
    "You learned to:\n",
    "* Apply built-in Python functions and operations\n",
    "* Import three packages: numpy, pandas, and matplotlib\n",
    "* Work with arrays and lists\n",
    "* Create a simple plot"
   ]
  },
  {
   "cell_type": "code",
   "execution_count": null,
   "metadata": {
    "id": "QLSD6y1ldZM_"
   },
   "outputs": [],
   "source": []
  }
 ],
 "metadata": {
  "colab": {
   "include_colab_link": true,
   "provenance": []
  },
  "kernelspec": {
   "display_name": "python-workshop",
   "language": "python",
   "name": "python3"
  },
  "language_info": {
   "codemirror_mode": {
    "name": "ipython",
    "version": 3
   },
   "file_extension": ".py",
   "mimetype": "text/x-python",
   "name": "python",
   "nbconvert_exporter": "python",
   "pygments_lexer": "ipython3",
   "version": "3.12.7"
  }
 },
 "nbformat": 4,
 "nbformat_minor": 0
}
