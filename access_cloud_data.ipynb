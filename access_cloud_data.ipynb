{
  "cells": [
    {
      "cell_type": "markdown",
      "metadata": {
        "id": "view-in-github",
        "colab_type": "text"
      },
      "source": [
        "<a href=\"https://colab.research.google.com/gist/resmaili/c88f7cf2bfd97e6ecce46d791dc5df58/agu_2024_access_demo.ipynb\" target=\"_parent\"><img src=\"https://colab.research.google.com/assets/colab-badge.svg\" alt=\"Open In Colab\"/></a>"
      ]
    },
    {
      "cell_type": "markdown",
      "id": "4e481a14",
      "metadata": {
        "id": "4e481a14"
      },
      "source": [
        "# **Tutorial: Visualizing NOAA satellite data from the cloud**\n",
        "Author: Rebekah Esmaili, PhD\n",
        "\n",
        "This tutorial will show the basic steps to accessing GOES-16 ABI data on Amazon Web Services (AWS) and make an [Sandwich RGB](https://www.star.nesdis.noaa.gov/goes/documents/SandwichProduct.pdf) of Hurricane Rafael from November 2024!\n",
        "\n",
        "The main steps will be:\n",
        "1. Import relevant packages\n",
        "2. Search cloud repositories for NOAA satellite data\n",
        "3. Import the data into memory\n",
        "4. Make a plot of a single GOES-16 ABI channel\n",
        "4. Reformat data for a combined imagery plot\n",
        "5. Plot imagery on a map\n",
        "\n",
        "This is a beginner-intermediate level tutorial and will take 30-45 minutes to complete Sections 1-4. Section 5 may take longer depending on your Python and GIS experience. Special thanks to the [CIMSS Satellite Blog](https://cimss.ssec.wisc.edu/satellite-blog/archives/61515) for documenting this example."
      ]
    },
    {
      "cell_type": "markdown",
      "source": [
        "## 1 Import Relevant Packages\n",
        "**bold text**"
      ],
      "metadata": {
        "id": "FKAhN5y9ztGO"
      },
      "id": "FKAhN5y9ztGO"
    },
    {
      "cell_type": "markdown",
      "source": [
        "\n",
        "We will use three packages for this project (`matplotlib`, `xarray`, `numpy`, and `s3fs`). We have to install s3fs, which we can do using pip. This may take ~20s to complete."
      ],
      "metadata": {
        "id": "x9G2UoD1ztQt"
      },
      "id": "x9G2UoD1ztQt"
    },
    {
      "cell_type": "code",
      "source": [
        "!pip install s3fs cartopy --quiet"
      ],
      "metadata": {
        "id": "KNfqwEtx8Xxc"
      },
      "id": "KNfqwEtx8Xxc",
      "execution_count": null,
      "outputs": []
    },
    {
      "cell_type": "markdown",
      "source": [
        "Next, let's import the packages."
      ],
      "metadata": {
        "id": "hJmAw9TobjnR"
      },
      "id": "hJmAw9TobjnR"
    },
    {
      "cell_type": "code",
      "execution_count": null,
      "id": "dd526993",
      "metadata": {
        "id": "dd526993"
      },
      "outputs": [],
      "source": [
        "import matplotlib.pyplot as plt\n",
        "from matplotlib.colors import Normalize\n",
        "import xarray as xr\n",
        "import s3fs\n",
        "import numpy as np\n",
        "import cartopy.crs as ccrs"
      ]
    },
    {
      "cell_type": "markdown",
      "source": [
        "The package s3fs is file interface for Amazon S3 (Simple Storage Service) buckets, so you can browse and search for data. NOAA's Open Data Dissemination (NODD) program is increasing access to satellite data, including GOES and JPSS."
      ],
      "metadata": {
        "id": "NKhpU0lJzdFo"
      },
      "id": "NKhpU0lJzdFo"
    },
    {
      "cell_type": "markdown",
      "source": [
        "## 2 Search cloud repositories for NOAA satellite data"
      ],
      "metadata": {
        "id": "c5G6jDppzc3k"
      },
      "id": "c5G6jDppzc3k"
    },
    {
      "cell_type": "markdown",
      "id": "a105f2e2",
      "metadata": {
        "id": "a105f2e2"
      },
      "source": [
        "\n",
        "In this tutoral, we'll look at [GOES-16 Mesoscale data in S3](https://registry.opendata.aws/noaa-goes/). Mesoscale files begin with `ABI-L1b-RadM`. Full-disk and CONUS data have greater spatial coverage and also are available on the cloud. You can visually browse these datasets via the provided link and find \"browse bucket\" underneath the GOES satellite of interest. You can also brose [JPSS datasets in S3](https://registry.opendata.aws/noaa-jpss/).\n",
        "\n",
        "First, we have to initialize the filesystem. We pass in the keyword `anon` because we are not going to pass any login information since the data are public."
      ]
    },
    {
      "cell_type": "code",
      "execution_count": null,
      "id": "3134236e",
      "metadata": {
        "id": "3134236e"
      },
      "outputs": [],
      "source": [
        "fs = s3fs.S3FileSystem(anon=True)"
      ]
    },
    {
      "cell_type": "markdown",
      "id": "7b4ad4c6",
      "metadata": {
        "id": "7b4ad4c6"
      },
      "source": [
        "You can manually browse the contents of the S3 bucket using the link above, or you can search in the command line. The S3 bucket is named `noaa-goes16`, and using the `s3fs` ls command (we'll only print the first 3 entries for brevity):"
      ]
    },
    {
      "cell_type": "code",
      "execution_count": null,
      "id": "b13b1eb9",
      "metadata": {
        "id": "b13b1eb9"
      },
      "outputs": [],
      "source": [
        "fs.ls('noaa-goes16')[0:3]"
      ]
    },
    {
      "cell_type": "markdown",
      "id": "e3ca1927",
      "metadata": {
        "id": "e3ca1927"
      },
      "source": [
        "We can repeat the search above by extending the argument from `noaa-goes16` to `noaa-goes16/ABI-L1b-RadM` and running the command again. To save some time, let's construct the full path below:"
      ]
    },
    {
      "cell_type": "code",
      "execution_count": null,
      "id": "f1e76126",
      "metadata": {
        "id": "f1e76126"
      },
      "outputs": [],
      "source": [
        "bucket_name = 'noaa-goes16'\n",
        "product_name = 'ABI-L1b-RadM'\n",
        "year = 2024\n",
        "doy = 309\n",
        "hour = 18\n",
        "\n",
        "path = bucket_name + '/' + product_name + '/' + str(year) + '/' + str(doy).zfill(3) + '/' + str(hour).zfill(2) + '/'\n",
        "print(path)"
      ]
    },
    {
      "cell_type": "markdown",
      "id": "8dbeba37",
      "metadata": {
        "id": "8dbeba37"
      },
      "source": [
        "Since we're looking at the mesosector scan, this search will still yield a lot of results:"
      ]
    },
    {
      "cell_type": "code",
      "execution_count": null,
      "id": "0bec2014",
      "metadata": {
        "id": "0bec2014"
      },
      "outputs": [],
      "source": [
        "files = fs.ls(path)\n",
        "print(files[0:5])"
      ]
    },
    {
      "cell_type": "markdown",
      "id": "4c1855e3",
      "metadata": {
        "id": "4c1855e3"
      },
      "source": [
        "If you've seen satellite data files before, you'll know they have long filenames. Let's break it down:\n",
        "\n",
        "`[sensor and product name]-[scan sector]_[satellite]_s[scan start time]_e[scan end time]_c[creation time].nc`\n",
        "\n",
        "To save a little bit of time, let's cheat a bit and only work with the first available time stamp (`'20243091800'`). The sandwich product takes the difference of ABI channels 3 and 13. The snippet of code below will search all the files and only keep the ones that have `'C03'` or `'C13'` and the start time `'202430918002'`.\n",
        "\n",
        "I'm using a list comprehension, which is a shorter way of writing a loop. For reference, the original loop is commented out:"
      ]
    },
    {
      "cell_type": "code",
      "execution_count": null,
      "id": "87ba13c9",
      "metadata": {
        "id": "87ba13c9"
      },
      "outputs": [],
      "source": [
        "# Long form of writing a loop\n",
        "# for file in files:\n",
        "#     if ('C03_G16_s2024309180' in file) | ('C13_G16_s2024309180' in file):\n",
        "#         print(file)\n",
        "\n",
        "matches = [file for file in files if ('C03_G16_s202430918002' in file) | ('C13_G16_s202430918002' in file)]\n",
        "print(matches)"
      ]
    },
    {
      "cell_type": "markdown",
      "id": "e366c70c",
      "metadata": {
        "id": "e366c70c"
      },
      "source": [
        "Now that we have found our files in the satellite data \"haystack\" we can finally open them:"
      ]
    },
    {
      "cell_type": "code",
      "execution_count": null,
      "id": "837c8444",
      "metadata": {
        "id": "837c8444"
      },
      "outputs": [],
      "source": [
        "remote_obj_ch3 = fs.open(matches[0], mode='rb')\n",
        "remote_obj_ch13 = fs.open(matches[1], mode='rb')"
      ]
    },
    {
      "cell_type": "markdown",
      "source": [
        "## 3 Import the data into memory"
      ],
      "metadata": {
        "id": "EIwjvV4P0Hg0"
      },
      "id": "EIwjvV4P0Hg0"
    },
    {
      "cell_type": "markdown",
      "id": "ba4b773a",
      "metadata": {
        "id": "ba4b773a"
      },
      "source": [
        "We will need to use `xarray` to read*/*interpret the netCDF file."
      ]
    },
    {
      "cell_type": "code",
      "execution_count": null,
      "id": "36afcbb7",
      "metadata": {
        "id": "36afcbb7"
      },
      "outputs": [],
      "source": [
        "abi_ch3 = xr.open_dataset(remote_obj_ch3, engine='h5netcdf')\n",
        "abi_ch13 = xr.open_dataset(remote_obj_ch13, engine='h5netcdf')"
      ]
    },
    {
      "cell_type": "markdown",
      "id": "0cd3dc66",
      "metadata": {
        "id": "0cd3dc66"
      },
      "source": [
        "We can print the header information to see the file contents:"
      ]
    },
    {
      "cell_type": "code",
      "execution_count": null,
      "id": "f513b260",
      "metadata": {
        "id": "f513b260"
      },
      "outputs": [],
      "source": [
        "abi_ch3"
      ]
    },
    {
      "cell_type": "markdown",
      "source": [],
      "metadata": {
        "id": "JPnDqrCp0kbV"
      },
      "id": "JPnDqrCp0kbV"
    },
    {
      "cell_type": "markdown",
      "source": [
        "## 4 Make a plot of a single GOES-16 ABI channel"
      ],
      "metadata": {
        "id": "Z_GT4iW90lAr"
      },
      "id": "Z_GT4iW90lAr"
    },
    {
      "cell_type": "markdown",
      "id": "54196bce",
      "metadata": {
        "id": "54196bce"
      },
      "source": [
        "We can learn a lot about the file from the header. For example, the file dimensions are 1000 x 1000, there's a useful variable named `Rad` (for Radiance), and the `x` and `y` coordinates in the geostationary projection.\n",
        "\n",
        "\n",
        "Let's preview what these two images look like using `matplotlib` and `imshow`. The title and labels are optional. We set `origin` to upper to prevent the images from being flipped."
      ]
    },
    {
      "cell_type": "code",
      "execution_count": null,
      "id": "31eeb78f",
      "metadata": {
        "id": "31eeb78f"
      },
      "outputs": [],
      "source": [
        "plt.figure(figsize=[10,10])\n",
        "plt.title(\"GOES-16 ABI Channel 3 (0.86 μm)\")\n",
        "tmp = plt.imshow(abi_ch3.Rad, cmap='Greys_r', origin='upper')\n",
        "plt.colorbar(tmp, label=(\"Brightness Temperature (K)\"))\n",
        "plt.show()"
      ]
    },
    {
      "cell_type": "code",
      "source": [
        "plt.figure(figsize=[10,10])\n",
        "tmp = plt.imshow(abi_ch13.Rad, cmap='Greys', origin='upper')\n",
        "plt.title(\"GOES-16 ABI Channel 13 (10.4 μm)\")\n",
        "plt.colorbar(tmp, label=(\"Brightness Temperature (K)\"))\n",
        "plt.show()"
      ],
      "metadata": {
        "id": "VNsDjm6742Gm"
      },
      "id": "VNsDjm6742Gm",
      "execution_count": null,
      "outputs": []
    },
    {
      "cell_type": "markdown",
      "source": [
        "## 5 Reformat data for a combined imagery plot"
      ],
      "metadata": {
        "id": "EgWpjziL0y7j"
      },
      "id": "EgWpjziL0y7j"
    },
    {
      "cell_type": "markdown",
      "id": "707e6082",
      "metadata": {
        "id": "707e6082"
      },
      "source": [
        "Our goal is to create a sandwich product, which combines ABI channel 3 and channel 13 radiances. First, let's extract the radiances from the file:"
      ]
    },
    {
      "cell_type": "code",
      "execution_count": null,
      "id": "4e622e15",
      "metadata": {
        "id": "4e622e15"
      },
      "outputs": [],
      "source": [
        "C13 = abi_ch13.Rad.values\n",
        "C03 = abi_ch3.Rad.values"
      ]
    },
    {
      "cell_type": "markdown",
      "id": "8b0542b5",
      "metadata": {
        "id": "8b0542b5"
      },
      "source": [
        "We need to make sure both are the same resolution, but unfortunately they are not. Channel 3 is 1 km and Channel 13 is 2 km. You can use the shape command to check the array size:"
      ]
    },
    {
      "cell_type": "code",
      "execution_count": null,
      "id": "6107f60f",
      "metadata": {
        "id": "6107f60f"
      },
      "outputs": [],
      "source": [
        "C13.shape, C03.shape"
      ]
    },
    {
      "cell_type": "markdown",
      "id": "95dbb4af",
      "metadata": {
        "id": "95dbb4af"
      },
      "source": [
        "There are many techniques to change the data reoslution, but a fast and simple way to change the gridding to skip every other pixel. Python can skip indices using the double colons (::) followed by an integer. We'll overwrite the original variable with this new smaller resolution variable."
      ]
    },
    {
      "cell_type": "code",
      "execution_count": null,
      "id": "070a6237",
      "metadata": {
        "id": "070a6237"
      },
      "outputs": [],
      "source": [
        "C03 = C03[::2, ::2]\n",
        "C03.shape, abi_ch13.Rad.shape"
      ]
    },
    {
      "cell_type": "markdown",
      "source": [
        "We want to overlay the two images. You can change the values below, but we'll set the opacity to 0 (fully transparent) in warm regions so that we can only see the coldest cloud tops on Channel 13, but use Channel 3 to show the surface."
      ],
      "metadata": {
        "id": "Zgqg8lNug4xt"
      },
      "id": "Zgqg8lNug4xt"
    },
    {
      "cell_type": "code",
      "source": [
        "mask = (abi_ch13.Rad.values >= 60)\n",
        "alpha = np.where(mask, 0.0, 0.9)\n",
        "alpha"
      ],
      "metadata": {
        "id": "ULsoxCNgggxH"
      },
      "id": "ULsoxCNgggxH",
      "execution_count": null,
      "outputs": []
    },
    {
      "cell_type": "markdown",
      "id": "45cf94a1",
      "metadata": {
        "id": "45cf94a1"
      },
      "source": [
        "Finally, we'll make a plot of our hard work!"
      ]
    },
    {
      "cell_type": "code",
      "execution_count": null,
      "id": "c88f3762",
      "metadata": {
        "id": "c88f3762"
      },
      "outputs": [],
      "source": [
        "plt.figure(figsize=[10,10])\n",
        "plt.imshow(abi_ch3.Rad, cmap='Greys_r', alpha=0.8, origin='upper')\n",
        "tmp = plt.imshow(abi_ch13.Rad.values, cmap='jet_r', alpha=alpha, vmax=60, origin='upper')\n",
        "plt.colorbar(tmp)\n",
        "plt.show()"
      ]
    },
    {
      "cell_type": "markdown",
      "source": [
        "## 6 Plot imagery on a map (advanced)"
      ],
      "metadata": {
        "id": "xBkxZYuP1Amm"
      },
      "id": "xBkxZYuP1Amm"
    },
    {
      "cell_type": "markdown",
      "source": [
        "This next section is advanced, so if you are new and find it confused, that's okay! It can be a useful template for plotting other GOES imegery and products.\n",
        "\n",
        "The GOES imager projection is the gridding system used by all GOES ABI imagery channels and many products. It is based on the viewing projection of the satellite. To learn more, you can [read this excellent guide](https://www.star.nesdis.noaa.gov/atmospheric-composition-training/satellite_data_goes_imager_projection.php) written by Dr. Amy Huff.\n",
        "\n",
        "We'll need to read several viewing (`sat height` and `central longitude`) and earth geometry variables (`semi_major` and `semi_minor`) from the ABI file. Since both channel 3 and 13 are from the same instrument on the same satellite, the geometries will be the same for both. I'll extract these values from the `goes_imager_projection` variable in the Channel 13 file (`abi_ch13`)."
      ],
      "metadata": {
        "id": "c2FkoLAL1iZm"
      },
      "id": "c2FkoLAL1iZm"
    },
    {
      "cell_type": "code",
      "source": [
        "geom = abi_ch13.goes_imager_projection\n",
        "\n",
        "sat_height = geom.perspective_point_height\n",
        "central_lon = geom.longitude_of_projection_origin\n",
        "semi_major = geom.semi_major_axis\n",
        "semi_minor = geom.semi_minor_axis"
      ],
      "metadata": {
        "id": "F1J2PtCsrxsQ"
      },
      "id": "F1J2PtCsrxsQ",
      "execution_count": null,
      "outputs": []
    },
    {
      "cell_type": "markdown",
      "source": [
        "Next, we'll need to define three objects in [Cartopy](https://scitools.org.uk/cartopy/docs/latest/) to define the coordinate reference system (crs) using `ccrs.Geostationary` before we can make a map. We start by defining the `Globe` parameter of the crs using Earth's `semi_major` and `semi_minor` axes.\n",
        "\n",
        "Then we define define the crs using the `central_lon`, `sat_height`, and `globe` variables."
      ],
      "metadata": {
        "id": "uquIIOxr269V"
      },
      "id": "uquIIOxr269V"
    },
    {
      "cell_type": "code",
      "source": [
        "globe = ccrs.Globe(semimajor_axis=semi_major, semiminor_axis=semi_minor)\n",
        "crs = ccrs.Geostationary(central_longitude=central_lon, satellite_height=sat_height, globe=globe)"
      ],
      "metadata": {
        "id": "Z5cXe0nLrkdd"
      },
      "id": "Z5cXe0nLrkdd",
      "execution_count": null,
      "outputs": []
    },
    {
      "cell_type": "markdown",
      "source": [
        "That's all we need for the map!\n",
        "\n",
        "We also need to define the edges of the image. We can do this by multiplying the min and max values of the"
      ],
      "metadata": {
        "id": "Bix63oKB4Gv_"
      },
      "id": "Bix63oKB4Gv_"
    },
    {
      "cell_type": "code",
      "source": [
        "X = abi_ch13['x'][:] * sat_height\n",
        "Y = abi_ch13['y'][:] * sat_height\n",
        "\n",
        "imgExtent = (X.min(), X.max(), Y.min(), Y.max())"
      ],
      "metadata": {
        "id": "GCUbtIpJtOr6"
      },
      "id": "GCUbtIpJtOr6",
      "execution_count": null,
      "outputs": []
    },
    {
      "cell_type": "markdown",
      "source": [
        "We can re-use a lot of the code from the plot we made in Section 5, but we need to add the `extent` and set it to the boundaries of the image."
      ],
      "metadata": {
        "id": "T4sQExGy4Xft"
      },
      "id": "T4sQExGy4Xft"
    },
    {
      "cell_type": "code",
      "source": [
        "fig = plt.figure(figsize=(10,10))\n",
        "ax = plt.subplot(projection=crs)\n",
        "ax.coastlines('10m', color='white', linewidth=1.5)\n",
        "ax.imshow(abi_ch3.Rad, origin='upper', cmap='Greys_r', alpha=0.8, extent=imgExtent)\n",
        "temp = ax.imshow(abi_ch13.Rad.values, origin='upper', cmap='jet_r', extent=imgExtent, alpha=alpha, vmax=60)\n",
        "plt.show()"
      ],
      "metadata": {
        "id": "57kZExJas9M3"
      },
      "id": "57kZExJas9M3",
      "execution_count": null,
      "outputs": []
    },
    {
      "cell_type": "markdown",
      "source": [
        "Now we can see the coastlines!"
      ],
      "metadata": {
        "id": "J1cWx5QC7qRG"
      },
      "id": "J1cWx5QC7qRG"
    },
    {
      "cell_type": "markdown",
      "id": "1bac28ec",
      "metadata": {
        "id": "1bac28ec"
      },
      "source": [
        "# Summary\n",
        "\n",
        "In this tutorial, we covered steps to access and display NOAA satellite datasets. For more information on the datasets that are available on the cloud, visit the [NOAA Open Data Dissemination (NODD)](https://www.noaa.gov/information-technology/open-data-dissemination) website. To learn more about NOAA satellite data products, visit [NOAA OneStop](https://data.noaa.gov/onestop/)."
      ]
    },
    {
      "cell_type": "code",
      "source": [],
      "metadata": {
        "id": "uqzPD9s78vuJ"
      },
      "id": "uqzPD9s78vuJ",
      "execution_count": null,
      "outputs": []
    }
  ],
  "metadata": {
    "kernelspec": {
      "display_name": "Python 3.9.7 ('base')",
      "language": "python",
      "name": "python3"
    },
    "language_info": {
      "codemirror_mode": {
        "name": "ipython",
        "version": 3
      },
      "file_extension": ".py",
      "mimetype": "text/x-python",
      "name": "python",
      "nbconvert_exporter": "python",
      "pygments_lexer": "ipython3",
      "version": "3.9.7"
    },
    "vscode": {
      "interpreter": {
        "hash": "cf7046c951e869187a5b139c4d96f415dd22efc85b0b4734f037abe763c2d370"
      }
    },
    "colab": {
      "provenance": [],
      "include_colab_link": true
    }
  },
  "nbformat": 4,
  "nbformat_minor": 5
}